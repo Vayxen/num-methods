{
 "cells": [
  {
   "cell_type": "markdown",
   "metadata": {},
   "source": [
    "# Newton's forward difference, dumbed down\n",
    "Assume you have $n$ equidistant points $x_{i=1,\\dots,n}$ (of distance $h$ between each) on the $x$ axis and that we know their image $f(x_i)$ We (who tf is this \"we\" though) will later on use an alternate notation where $f_i = f(x_i)$. We could, based on those points, draw a (unique) curve of degree $n-1$ (uniqueness is apparent when for instance we consider a parabola, degree 2, being uniquely determined by 3 points). \\\n",
    "We can then define the (first) **forward difference** between $x_1$ and $x_0$ (starting point) as\n",
    "$$\\Delta f(x_0) = f(x_1) - f(x_0)$$ \n",
    "and more generally (for any n-th difference, because we can then calculate the difference of the difference and so on) we can define it as \n",
    "$$\\Delta^n f(x_i) := \\Delta^{n-1} f(x_{i+1}) - \\Delta^{n-1} f(x_i)$$\n",
    "\n",
    "We can introduce a coefficient, $r$: this coefficient measures the distance from the starting point in a relative way, because instead of taking a point $x$ on the interval and\n",
    "calculating its absolute distance from $x_0$, we measure *how many $h$ is $x$ distant from $x_0$* (for instance, if $r=3$, it means that our chosen point $x$ is at a distance of 3 intervals from $x_0$). \\\n",
    "Finally we may write the general formula for the n-th order interpolating polynomial: \n",
    "$$ \\sum_{k=0}^{n} (x)_k \\frac{\\Delta^k f(x_0)}{k!} $$\n",
    "\n",
    "where $(x)_n$ is the \"falling factorial\" of $r$, where instead of multiplying all successive terms up to a certain integer, we start from any real number (namely $r$ itself in this case) and go down term by term (multiplying $r(r-1)...(r-n+1)$). there's an alternate notation with overbar or underbar on the exponent but i cba to add it"
   ]
  },
  {
   "cell_type": "markdown",
   "metadata": {},
   "source": [
    "# From theory to code\n",
    "\n",
    "We can now try to write an expression that evaluates the $f(x)$ of any $x \\in [x_0, x_n]$, where $f$ will be the curve we'll draw by interpolating the $n$ points.\n",
    "Generating the list of equidistant numbers is easy: we call the `linspace()` function from numpy and give it, in order, an initial and final value:"
   ]
  },
  {
   "cell_type": "code",
   "execution_count": 2,
   "metadata": {},
   "outputs": [
    {
     "name": "stdout",
     "output_type": "stream",
     "text": [
      "[0.5  0.65 0.8  0.95 1.1  1.25 1.4  1.55 1.7  1.85]\n"
     ]
    }
   ],
   "source": [
    "import numpy as np\n",
    "\n",
    "x = np.linspace(0.5, 1.85, 10) #endpoint included\n",
    "print(x)\n"
   ]
  },
  {
   "cell_type": "markdown",
   "metadata": {},
   "source": [
    "We then create an array of the same size as the one created with linspace that basically matches each $x$ to an $y$:"
   ]
  },
  {
   "cell_type": "code",
   "execution_count": 29,
   "metadata": {},
   "outputs": [],
   "source": [
    "import numpy as np\n",
    "\n",
    "y = np.array([1.51295, 1.79024, 2.04887, 2.27976, 2.47567, 2.63142, 2.74432, 2.81448, 2.84532, 2.78945])\n"
   ]
  },
  {
   "cell_type": "markdown",
   "metadata": {},
   "source": [
    "and let's assume that our $X$ we're trying to interpolate for is $X = 0.7$. We calculate $r = (x_3 - x_0) / h = 0.2 / 0.15 \\simeq 1.33$; we'll use this later.\n",
    "We now do a thing I have no fucking clue how to iterate properly without getting tangled: we have 10 points, which means we could technically stop at a degree 9 polynomial, that is overkill and we could simply stop much earlier, at a point where the differences become negligible:\n"
   ]
  },
  {
   "cell_type": "code",
   "execution_count": 30,
   "metadata": {},
   "outputs": [
    {
     "name": "stdout",
     "output_type": "stream",
     "text": [
      "[0.277, 0.259, 0.231, 0.196, 0.156, 0.113, 0.07, 0.031, -0.056]\n"
     ]
    }
   ],
   "source": [
    "ydifference = []\n",
    "\n",
    "for i in range(0, len(y) - 1): #calculating the first order difference between each pair of selected points\n",
    "    difference = round(y[i+1] - y[i], 3) #rounded cause fuck it\n",
    "    ydifference.append(difference)\n",
    "\n",
    "print(ydifference)\n"
   ]
  },
  {
   "cell_type": "markdown",
   "metadata": {},
   "source": [
    "These are the first order differences: $\\Delta(f_0) = 0.277$ and so on."
   ]
  }
 ],
 "metadata": {
  "kernelspec": {
   "display_name": "Python 3.10.4 64-bit",
   "language": "python",
   "name": "python3"
  },
  "language_info": {
   "codemirror_mode": {
    "name": "ipython",
    "version": 3
   },
   "file_extension": ".py",
   "mimetype": "text/x-python",
   "name": "python",
   "nbconvert_exporter": "python",
   "pygments_lexer": "ipython3",
   "version": "3.10.8"
  },
  "orig_nbformat": 4,
  "vscode": {
   "interpreter": {
    "hash": "dbff6b447f4414ef932823147e4ed195d87834149e57d3c5b9d311f86c61fe5c"
   }
  }
 },
 "nbformat": 4,
 "nbformat_minor": 2
}
